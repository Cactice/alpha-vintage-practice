{
 "cells": [
  {
   "cell_type": "code",
   "execution_count": 4,
   "metadata": {},
   "outputs": [
    {
     "name": "stdout",
     "output_type": "stream",
     "text": [
      "\u001b[32m\u001b[1m  Updating\u001b[22m\u001b[39m registry at `/opt/julia/registries/General`\n",
      "\u001b[32m\u001b[1m  Updating\u001b[22m\u001b[39m git-repo `https://github.com/JuliaRegistries/General.git`\n",
      "\u001b[2K\u001b[?25h[1mFetching:\u001b[22m\u001b[39m [========================================>]  100.0 %.0 %\u001b[32m\u001b[1m Resolving\u001b[22m\u001b[39m package versions...\n",
      "\u001b[32m\u001b[1m  Updating\u001b[22m\u001b[39m `~/Project.toml`\n",
      "\u001b[90m [no changes]\u001b[39m\n",
      "\u001b[32m\u001b[1m  Updating\u001b[22m\u001b[39m `~/Manifest.toml`\n",
      "\u001b[90m [no changes]\u001b[39m\n",
      "\u001b[32m\u001b[1m Resolving\u001b[22m\u001b[39m package versions...\n",
      "\u001b[32m\u001b[1m  Updating\u001b[22m\u001b[39m `~/Project.toml`\n",
      "\u001b[90m [no changes]\u001b[39m\n",
      "\u001b[32m\u001b[1m  Updating\u001b[22m\u001b[39m `~/Manifest.toml`\n",
      "\u001b[90m [no changes]\u001b[39m\n"
     ]
    }
   ],
   "source": [
    "using Pkg\n",
    "Pkg.add(\"HTTP\")\n",
    "Pkg.add(\"JSON\")"
   ]
  },
  {
   "cell_type": "code",
   "execution_count": 5,
   "metadata": {},
   "outputs": [],
   "source": [
    "import HTTP\n",
    "import JSON"
   ]
  },
  {
   "cell_type": "code",
   "execution_count": 6,
   "metadata": {},
   "outputs": [
    {
     "data": {
      "text/plain": [
       "HTTP.Messages.Response:\n",
       "\"\"\"\n",
       "HTTP/1.1 200 OK\r\n",
       "Connection: keep-alive\r\n",
       "Server: gunicorn/19.7.0\r\n",
       "Date: Fri, 20 Mar 2020 10:12:03 GMT\r\n",
       "Transfer-Encoding: chunked\r\n",
       "Allow: GET, HEAD, OPTIONS\r\n",
       "Vary: Cookie\r\n",
       "Content-Type: application/json\r\n",
       "X-Frame-Options: SAMEORIGIN\r\n",
       "Via: 1.1 vegur\r\n",
       "\r\n",
       "{\n",
       "    \"Meta Data\": {\n",
       "        \"1. Information\": \"Intraday (5min) open, high, low, close prices and volume\",\n",
       "        \"2. Symbol\": \"MSFT\",\n",
       "        \"3. Last Refreshed\": \"2020-03-19 16:00:00\",\n",
       "        \"4. Interval\": \"5min\",\n",
       "        \"5. Output Size\": \"Compact\",\n",
       "        \"6. Time Zone\": \"US/Eastern\"\n",
       "    },\n",
       "    \"Time Series (5min)\": {\n",
       "        \"2020-03-19 16:00:00\": {\n",
       "            \"1. open\": \"144.2300\",\n",
       "            \"2. high\": \"144.8900\",\n",
       "            \"3. low\": \"141.6700\",\n",
       "            \"4. close\": \"142.6800\",\n",
       "            \"5. volume\": \"2458714\"\n",
       "        },\n",
       "        \"2020-03-19 15:55:00\": {\n",
       "            \"1. open\": \"144.9540\",\n",
       "            \"2. high\": \"146.3284\",\n",
       "            \"3. low\": \"143.0782\",\n",
       "            \"4. close\": \"144.2338\",\n",
       "            \"5. volume\": \"2543025\"\n",
       "        },\n",
       "        \"2020-03-19 15:50:00\": {\n",
       "            \"1. open\": \"147.3400\",\n",
       "            \"2. high\": \"147.5900\",\n",
       "            \"3. low\": \"144.7200\",\n",
       "            \"4. close\": \"144.9010\",\n",
       "            \"5. volume\": \"1276412\"\n",
       "        },\n",
       "        \"2020-0\n",
       "⋮\n",
       "22155-byte body\n",
       "\"\"\""
      ]
     },
     "execution_count": 6,
     "metadata": {},
     "output_type": "execute_result"
    }
   ],
   "source": [
    "r = HTTP.request(\"GET\", \n",
    "    \"https://www.alphavantage.co/query?\"*\n",
    "    \"function=TIME_SERIES_INTRADAY&\"*\n",
    "    \"symbol=MSFT&\"*\n",
    "    \"interval=5min&\"*\n",
    "    \"apikey=ENV['alpha_vantage_api_key']\"\n",
    ")\n",
    "body=String(r.body)"
   ]
  },
  {
   "cell_type": "code",
   "execution_count": 11,
   "metadata": {},
   "outputs": [
    {
     "data": {
      "text/plain": [
       "Dict{String,Any} with 2 entries:\n",
       "  \"Time Series (5min)\" => Dict{String,Any}(\"2020-03-19 09:35:00\"=>Dict{String,A…\n",
       "  \"Meta Data\"          => Dict{String,Any}(\"1. Information\"=>\"Intraday (5min) o…"
      ]
     },
     "execution_count": 11,
     "metadata": {},
     "output_type": "execute_result"
    }
   ],
   "source": [
    "data=JSON.parse(body)"
   ]
  },
  {
   "cell_type": "code",
   "execution_count": 24,
   "metadata": {},
   "outputs": [
    {
     "data": {
      "text/plain": [
       "HTTP.Messages.Response:\n",
       "\"\"\"\n",
       "HTTP/1.1 200 OK\r\n",
       "Connection: keep-alive\r\n",
       "Server: gunicorn/19.7.0\r\n",
       "Date: Fri, 20 Mar 2020 10:09:41 GMT\r\n",
       "Transfer-Encoding: chunked\r\n",
       "X-Frame-Options: SAMEORIGIN\r\n",
       "Vary: Cookie\r\n",
       "Allow: GET, HEAD, OPTIONS\r\n",
       "Content-Type: application/json\r\n",
       "Via: 1.1 vegur\r\n",
       "\r\n",
       "\"\"\""
      ]
     },
     "execution_count": 24,
     "metadata": {},
     "output_type": "execute_result"
    }
   ],
   "source": []
  },
  {
   "cell_type": "code",
   "execution_count": null,
   "metadata": {},
   "outputs": [],
   "source": []
  },
  {
   "cell_type": "code",
   "execution_count": null,
   "metadata": {},
   "outputs": [],
   "source": []
  }
 ],
 "metadata": {
  "kernelspec": {
   "display_name": "Julia 1.3.1",
   "language": "julia",
   "name": "julia-1.3"
  },
  "language_info": {
   "file_extension": ".jl",
   "mimetype": "application/julia",
   "name": "julia",
   "version": "1.3.1"
  }
 },
 "nbformat": 4,
 "nbformat_minor": 4
}
